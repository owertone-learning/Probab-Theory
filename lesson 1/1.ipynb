{
 "cells": [
  {
   "cell_type": "markdown",
   "metadata": {},
   "source": [
    "### Задача 1\n",
    "\n",
    "#### Группа студентов изучает 10 различных дисциплин. Сколькими способами можно составить расписание на понедельник, если в этот день должно быть 4 разных занятия?"
   ]
  },
  {
   "cell_type": "markdown",
   "metadata": {},
   "source": [
    "поскольку нет никаких дополнительных требований о том, какие это должны быть дисциплины и нет требований к их порядку, я рискну предположить, что это сочетание."
   ]
  },
  {
   "cell_type": "code",
   "execution_count": 72,
   "metadata": {},
   "outputs": [],
   "source": [
    "from math import factorial"
   ]
  },
  {
   "cell_type": "code",
   "execution_count": 91,
   "metadata": {},
   "outputs": [],
   "source": [
    "def combinations(n, k):\n",
    "    return int(factorial(n) / (factorial(k) * factorial(n - k)))"
   ]
  },
  {
   "cell_type": "code",
   "execution_count": 92,
   "metadata": {},
   "outputs": [
    {
     "data": {
      "text/plain": [
       "210"
      ]
     },
     "execution_count": 92,
     "metadata": {},
     "output_type": "execute_result"
    }
   ],
   "source": [
    "combinations (10, 4)"
   ]
  },
  {
   "cell_type": "markdown",
   "metadata": {},
   "source": [
    "### Задача 2\n",
    "\n",
    "#### Из колоды в 52 карты вынимают случайным образом 4 карты. Найти число исходов, соответствующих тому, что был вытянут хотя бы один туз."
   ]
  },
  {
   "cell_type": "markdown",
   "metadata": {},
   "source": [
    "Условию \"хотя бы один туз\" соотстветствуют 4 варианта: 1 туз, 2 туза, 3 и 4 туза. Похожий пример разбирали на уроке, это тоже будет сочетание."
   ]
  },
  {
   "cell_type": "markdown",
   "metadata": {},
   "source": [
    "#### #1 - один туз"
   ]
  },
  {
   "cell_type": "code",
   "execution_count": 93,
   "metadata": {
    "scrolled": true
   },
   "outputs": [
    {
     "name": "stdout",
     "output_type": "stream",
     "text": [
      "число сочетаний одного туза: 4\n",
      "число сочетаний остатков колоды: 17296\n",
      "итого число сочетаний одного туза: 69184\n"
     ]
    }
   ],
   "source": [
    "one = combinations (4, 1)\n",
    "print (f'число сочетаний одного туза: {one}')\n",
    "one_c = combinations (48, 3)\n",
    "print (f'число сочетаний остатков колоды: {one_c}')\n",
    "one_all = one * one_c\n",
    "print (f'итого число сочетаний одного туза: {one_all}')"
   ]
  },
  {
   "cell_type": "markdown",
   "metadata": {},
   "source": [
    "#### #2 - два туза"
   ]
  },
  {
   "cell_type": "code",
   "execution_count": 98,
   "metadata": {},
   "outputs": [
    {
     "name": "stdout",
     "output_type": "stream",
     "text": [
      "число сочетаний двух тузов: 6\n",
      "число сочетаний остатков колоды: 1128\n",
      "итоговое число сочетаний двух туза: 6768\n"
     ]
    }
   ],
   "source": [
    "two = combinations (4, 2)\n",
    "print (f'число сочетаний двух тузов: {two}')\n",
    "two_c = combinations (48, 2)\n",
    "print (f'число сочетаний остатков колоды: {two_c}')\n",
    "two_all = two * two_c\n",
    "print (f'итоговое число сочетаний двух туза: {two_all}')"
   ]
  },
  {
   "cell_type": "markdown",
   "metadata": {},
   "source": [
    "#### #3 - три туза"
   ]
  },
  {
   "cell_type": "code",
   "execution_count": 95,
   "metadata": {},
   "outputs": [
    {
     "name": "stdout",
     "output_type": "stream",
     "text": [
      "число сочетаний трех тузов: 4\n",
      "число сочетаний остатков колоды: 48\n",
      "итоговое число сочетаний трех туза: 192\n"
     ]
    }
   ],
   "source": [
    "three = combinations (4, 3)\n",
    "print (f'число сочетаний трех тузов: {three}')\n",
    "three_c = combinations (48, 1)\n",
    "print (f'число сочетаний остатков колоды: {three_c}')\n",
    "three_all = three * three_c\n",
    "print (f'итоговое число сочетаний трех туза: {three_all}')"
   ]
  },
  {
   "cell_type": "markdown",
   "metadata": {},
   "source": [
    "#### #4 - четыре туза"
   ]
  },
  {
   "cell_type": "code",
   "execution_count": 96,
   "metadata": {},
   "outputs": [
    {
     "name": "stdout",
     "output_type": "stream",
     "text": [
      "число сочетаний четырех тузов: 1\n",
      "число сочетаний остатков колоды: 1\n",
      "итоговое число сочетаний четырех туза: 1\n"
     ]
    }
   ],
   "source": [
    "four = combinations (4, 4)\n",
    "print (f'число сочетаний четырех тузов: {four}')\n",
    "four_c = combinations (48, 0)\n",
    "print (f'число сочетаний остатков колоды: {four_c}')\n",
    "four_all = four * four_c\n",
    "print (f'итоговое число сочетаний четырех туза: {four_all}')"
   ]
  },
  {
   "cell_type": "markdown",
   "metadata": {},
   "source": [
    "#### Складываем получившиеся сочетания"
   ]
  },
  {
   "cell_type": "code",
   "execution_count": 97,
   "metadata": {},
   "outputs": [
    {
     "name": "stdout",
     "output_type": "stream",
     "text": [
      "итого сочетаний: 76145\n"
     ]
    }
   ],
   "source": [
    "all_combinations = one_all + two_all + three_all + four_all\n",
    "print (f'итого сочетаний: {all_combinations}')"
   ]
  },
  {
   "cell_type": "markdown",
   "metadata": {},
   "source": [
    "### Задача 3\n",
    "\n",
    "#### Семь человек рассаживаются наудачу на скамейке. Какова вероятность того, что два определённых человека будут сидеть рядом?"
   ]
  },
  {
   "cell_type": "markdown",
   "metadata": {},
   "source": [
    "Рассадить семь человек на скамейке можно 7! вариантами. Любая пара человек может садится на скамейку двумя способами (каждый может сесть справа/слева), оставшиеся пять соотвественно 5! вариантами. Всего на скамейке 7 человек составят 6 пар (учитываем только те, которые сидят рядом): 1-2, 2-3, 3-4, 4-5, 5-6, 6-7. (цифры с 1 по 7 это люди по счету). Эти 6 пар могу скомбинироваться двумя способами: 2*6 и еще остальные пять - 5! => m = 5! * 6 * 2, а n = 7!\n",
    "\n",
    "Следовательно веротяность будет равна P = m / n = 5! * 6 * 2 / 7!"
   ]
  },
  {
   "cell_type": "code",
   "execution_count": 101,
   "metadata": {},
   "outputs": [
    {
     "name": "stdout",
     "output_type": "stream",
     "text": [
      "Вероятность того, что два определённых человека будут сидеть рядом: 0.2857142857142857\n"
     ]
    }
   ],
   "source": [
    "P = (factorial(5) * 6 * 2) / factorial(7)\n",
    "print (f'Вероятность того, что два определённых человека будут сидеть рядом: {P}')"
   ]
  },
  {
   "cell_type": "markdown",
   "metadata": {},
   "source": [
    "### Задача 4\n",
    "\n",
    "#### Из 60 вопросов, входящих в экзаменационные билеты, студент знает 50. Какова вероятность того, что среди трёх наугад выбранных вопросов студент знает: а) все? б) два?"
   ]
  },
  {
   "cell_type": "markdown",
   "metadata": {},
   "source": [
    "а) студент знает все три вопроса, это сочетание поскольку условия их порядка нет."
   ]
  },
  {
   "cell_type": "code",
   "execution_count": 106,
   "metadata": {},
   "outputs": [
    {
     "name": "stdout",
     "output_type": "stream",
     "text": [
      "n = 34220\n"
     ]
    }
   ],
   "source": [
    "n = combinations (60, 3)\n",
    "print (f'n = {n}')"
   ]
  },
  {
   "cell_type": "code",
   "execution_count": 107,
   "metadata": {},
   "outputs": [
    {
     "name": "stdout",
     "output_type": "stream",
     "text": [
      "m = 19600\n"
     ]
    }
   ],
   "source": [
    "m = combinations (50, 3)\n",
    "print (f'm = {m}')"
   ]
  },
  {
   "cell_type": "markdown",
   "metadata": {},
   "source": [
    "Веротяность рассчитывается по формуле P = m / n"
   ]
  },
  {
   "cell_type": "code",
   "execution_count": 108,
   "metadata": {},
   "outputs": [
    {
     "name": "stdout",
     "output_type": "stream",
     "text": [
      "P = 0.5727644652250146\n"
     ]
    }
   ],
   "source": [
    "print (f'P = {m/n}')"
   ]
  },
  {
   "cell_type": "markdown",
   "metadata": {},
   "source": [
    "б) студент знает два вопроса"
   ]
  },
  {
   "cell_type": "code",
   "execution_count": 121,
   "metadata": {},
   "outputs": [
    {
     "name": "stdout",
     "output_type": "stream",
     "text": [
      "n = 34220\n"
     ]
    }
   ],
   "source": [
    "n = combinations (60, 3)\n",
    "print (f'n = {n}')"
   ]
  },
  {
   "cell_type": "code",
   "execution_count": 126,
   "metadata": {},
   "outputs": [
    {
     "name": "stdout",
     "output_type": "stream",
     "text": [
      "m1 = 1225\n"
     ]
    }
   ],
   "source": [
    "# m для билетов, которые он знает\n",
    "m1 = combinations (50, 2)\n",
    "print (f'm1 = {m1}')"
   ]
  },
  {
   "cell_type": "code",
   "execution_count": 127,
   "metadata": {},
   "outputs": [
    {
     "name": "stdout",
     "output_type": "stream",
     "text": [
      "m2 = 10\n"
     ]
    }
   ],
   "source": [
    "# m для билетов, которых он не знает\n",
    "m2 = combinations (10, 1)\n",
    "print (f'm2 = {m2}')"
   ]
  },
  {
   "cell_type": "code",
   "execution_count": 130,
   "metadata": {},
   "outputs": [
    {
     "name": "stdout",
     "output_type": "stream",
     "text": [
      "m = 12250\n"
     ]
    }
   ],
   "source": [
    "# итого m\n",
    "m = m1 * m2\n",
    "print (f'm = {m}')"
   ]
  },
  {
   "cell_type": "code",
   "execution_count": 131,
   "metadata": {},
   "outputs": [
    {
     "name": "stdout",
     "output_type": "stream",
     "text": [
      "P = 0.35797779076563413\n"
     ]
    }
   ],
   "source": [
    "print (f'P = {m/n}')"
   ]
  },
  {
   "cell_type": "markdown",
   "metadata": {},
   "source": [
    "### Задача 5\n",
    "\n",
    "#### Бросается игральная кость. Пусть событие A - появление чётного числа, событие B - появление числа больше трёх. Являются ли эти события независимыми?"
   ]
  },
  {
   "cell_type": "markdown",
   "metadata": {},
   "source": [
    "С одной стороны, наступление события А не отменяет наступления события В (4 и 6), с другой стороны, выпадение 2 при событии А делает событие B невозможным, поэтому можно сказать, что зависимость между этими событиями все же есть. Проверить это можно математически используя формулу: P(A|B) = P(A) => события независимы. Иначе события зависмы.\n",
    "\n",
    "P(A|B) = P(AB) / P(B) \n",
    "\n",
    "P(A) = 3/6 = 1/2\n",
    "\n",
    "P(B) = 3/6 = 1/2\n",
    "\n",
    "P(AB) = P(A) * P (B) = 1/2 * 1/2 = 1/4\n",
    "\n",
    "P (A|B) = (1/4) / (1/2) = 1/2 => P(A|B) = P(A) => обытия независимы"
   ]
  },
  {
   "cell_type": "markdown",
   "metadata": {},
   "source": [
    "### Задача 6 (Дополнительно)\n",
    "\n",
    "#### Допустим, имеется некоторая очень редкая болезнь (поражает 0.1 % населения). Вы приходите к врачу, вам делают тест на эту болезнь, и тест оказывается положительным. Врач говорит вам, что этот тест верно выявляет 99 % больных этой болезнью и всего лишь в 1 % случаев даёт ложный положительный ответ.\n",
    "\n",
    "#### Вопрос: какова вероятность, что вы действительно больны ей?\n",
    "\n",
    "#### Подсказка: вновь используйте формулу Байеса с раскрытием знаменателя с помощью формулы полной вероятности."
   ]
  },
  {
   "cell_type": "markdown",
   "metadata": {},
   "source": [
    "A - положительный тест\n",
    "\n",
    "B1 - болеет (0.1%)\n",
    "\n",
    "В2 - не болеет (0.9%)\n",
    "\n",
    "Вероятность P(A|B1) = 0,99 (99% тест верный)\n",
    "\n",
    "Вероятность P(A|B2) = 0,01 (1% тест ошибочный)\n",
    "\n",
    "Рассчитываем вероятности:\n",
    "\n",
    "P(B1) = 0.001 (по формуле P=m/n) => P(B2) = 0.999\n",
    "\n",
    "Ищем по Байесу и формуле полной вероятности P(B1|A):\n",
    "\n",
    "P(B|B1) = P(B1) * P (A|B1) / P(A), где P(A) = P(B1) * P(A|B1) + P(B2) * P(A|B2) - полная вероятность\n",
    "\n",
    "P(B1|1) = (0,001 * 0,99) / (0,001 * 0,99) + (0,999 * 0,01) \n"
   ]
  },
  {
   "cell_type": "code",
   "execution_count": 24,
   "metadata": {},
   "outputs": [
    {
     "name": "stdout",
     "output_type": "stream",
     "text": [
      " P (A1|B ) = 0.09016393442622951 \n"
     ]
    }
   ],
   "source": [
    "p1 = 0.001 * 0.99\n",
    "p2 = p1\n",
    "p3 = 0.999 * 0.01\n",
    "p4 = p2 + p3\n",
    "print (f' P (A1|B ) = {p1 / p4} ')"
   ]
  }
 ],
 "metadata": {
  "kernelspec": {
   "display_name": "Python 3",
   "language": "python",
   "name": "python3"
  },
  "language_info": {
   "codemirror_mode": {
    "name": "ipython",
    "version": 3
   },
   "file_extension": ".py",
   "mimetype": "text/x-python",
   "name": "python",
   "nbconvert_exporter": "python",
   "pygments_lexer": "ipython3",
   "version": "3.7.6"
  }
 },
 "nbformat": 4,
 "nbformat_minor": 4
}
