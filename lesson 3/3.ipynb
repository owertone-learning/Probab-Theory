{
 "cells": [
  {
   "cell_type": "markdown",
   "metadata": {},
   "source": [
    "## Урок 3. Описательная статистика. Качественные и количественные характеристики популяции. Графическое представление данных"
   ]
  },
  {
   "cell_type": "markdown",
   "metadata": {},
   "source": [
    "### Задача 1\n",
    "\n",
    "#### Даны значения зарплат из выборки выпускников:\n",
    "#### 100, 80, 75, 77, 89, 33, 45, 25, 65, 17, 30, 24, 57, 55, 70, 75, 65, 84, 90, 150.\n",
    "#### Без использования статистических функций вроде mean, std, var, посчитать среднее арифметическое, среднее квадратичное отклонение, смещенную и несмещенную оценки дисперсий для данной выборки.\n",
    "#### Можно затем посчитать те же значения с использованием статистических функций, чтобы проверить себя."
   ]
  },
  {
   "cell_type": "code",
   "execution_count": 87,
   "metadata": {},
   "outputs": [],
   "source": [
    "import warnings\n",
    "\n",
    "import numpy as np\n",
    "import pandas as pd\n",
    "from matplotlib import pyplot as plt\n",
    "\n",
    "warnings.filterwarnings('ignore')"
   ]
  },
  {
   "cell_type": "code",
   "execution_count": 88,
   "metadata": {},
   "outputs": [],
   "source": [
    "money = np.array([100, 80, 75, 77, 89, 33, 45, 25, 65, 17, 30, 24, 57, 55, 70, 75, 65, 84, 90, 150])\n",
    "df['salary'] = pd.DataFrame(money)"
   ]
  },
  {
   "cell_type": "code",
   "execution_count": 89,
   "metadata": {},
   "outputs": [
    {
     "name": "stdout",
     "output_type": "stream",
     "text": [
      "среднее арифметическое: 65.3\n"
     ]
    }
   ],
   "source": [
    "print (f'среднее арифметическое: {df[\"salary\"].sum()/df[\"salary\"].count()}')"
   ]
  },
  {
   "cell_type": "code",
   "execution_count": 90,
   "metadata": {},
   "outputs": [
    {
     "name": "stdout",
     "output_type": "stream",
     "text": [
      "среднее квадратичное отклонение: 30.823854398825596\n"
     ]
    }
   ],
   "source": [
    "print(f'среднее квадратичное отклонение: {np.sqrt(((df[\"salary\"] - df[\"salary\"].mean()) ** 2).sum() / df[\"salary\"].count())}')"
   ]
  },
  {
   "cell_type": "code",
   "execution_count": 91,
   "metadata": {},
   "outputs": [
    {
     "name": "stdout",
     "output_type": "stream",
     "text": [
      "смещенная дисперсия: 950.11\n"
     ]
    }
   ],
   "source": [
    "print(f'смещенная дисперсия: {((df[\"salary\"] - df[\"salary\"].mean()) ** 2).sum() / df[\"salary\"].count()}')"
   ]
  },
  {
   "cell_type": "code",
   "execution_count": 92,
   "metadata": {},
   "outputs": [
    {
     "name": "stdout",
     "output_type": "stream",
     "text": [
      "несмещенная дисперсия: 1000.1157894736842\n"
     ]
    }
   ],
   "source": [
    "print(f'несмещенная дисперсия: {((df[\"salary\"] - df[\"salary\"].mean()) ** 2).sum() / (df[\"salary\"].count()-1)}')"
   ]
  },
  {
   "cell_type": "code",
   "execution_count": 93,
   "metadata": {},
   "outputs": [
    {
     "name": "stdout",
     "output_type": "stream",
     "text": [
      "среднее арифметическое: 65.3\n",
      "среднее квадратичное отклонение: 30.823854398825596\n",
      "смещенная дисперсия: 950.11\n",
      "несмещенная дисперсия: 1000.1157894736842\n"
     ]
    }
   ],
   "source": [
    "print (f'среднее арифметическое: {df[\"salary\"].mean()}')\n",
    "print (f'среднее квадратичное отклонение: {df[\"salary\"].std(ddof=0)}')\n",
    "print (f'смещенная дисперсия: {df[\"salary\"].var(ddof=0)}')\n",
    "print (f'несмещенная дисперсия: {df[\"salary\"].var(ddof=1)}')"
   ]
  },
  {
   "cell_type": "markdown",
   "metadata": {},
   "source": [
    "### Задача 2\n",
    "\n",
    "#### Для выборки из задачи 1 найти первый и третий квартили, интерквартильное расстояние. Найти выборсы в выборке, используя для этого \"усы\" из boxplot. В этой задаче можно использовать статистические функции."
   ]
  },
  {
   "cell_type": "code",
   "execution_count": 94,
   "metadata": {},
   "outputs": [
    {
     "name": "stdout",
     "output_type": "stream",
     "text": [
      "первый квартиль: 42.0\n",
      "третий квартиль: 42.0\n",
      "интерквартильное расстояние: 39.0\n"
     ]
    }
   ],
   "source": [
    "q1 = df[\"salary\"].quantile(0.25)\n",
    "q3 = df[\"salary\"].quantile(0.75)\n",
    "iqr = q3 - q1\n",
    "print(f'первый квартиль: {q1}\\nтретий квартиль: {q1}\\nинтерквартильное расстояние: {iqr}')"
   ]
  },
  {
   "cell_type": "code",
   "execution_count": 95,
   "metadata": {},
   "outputs": [
    {
     "data": {
      "text/plain": [
       "<matplotlib.axes._subplots.AxesSubplot at 0x7f6a11e73b90>"
      ]
     },
     "execution_count": 95,
     "metadata": {},
     "output_type": "execute_result"
    },
    {
     "data": {
      "image/png": "[encoded data removed]",
      "text/plain": [
       "<Figure size 432x288 with 1 Axes>"
      ]
     },
     "metadata": {
      "needs_background": "light"
     },
     "output_type": "display_data"
    }
   ],
   "source": [
    "df[[\"salary\"]].boxplot()"
   ]
  },
  {
   "cell_type": "code",
   "execution_count": 96,
   "metadata": {},
   "outputs": [
    {
     "data": {
      "text/plain": [
       "(-16.5, 139.5)"
      ]
     },
     "execution_count": 96,
     "metadata": {},
     "output_type": "execute_result"
    }
   ],
   "source": [
    "boxplot_range = (q1 - 1.5 * iqr, q3 + 1.5 * iqr)\n",
    "boxplot_range"
   ]
  },
  {
   "cell_type": "code",
   "execution_count": 98,
   "metadata": {},
   "outputs": [
    {
     "data": {
      "text/plain": [
       "1"
      ]
     },
     "execution_count": 98,
     "metadata": {},
     "output_type": "execute_result"
    }
   ],
   "source": [
    "outliers = df.loc[(df['salary'] < boxplot_range[0]) | (df['salary'] > boxplot_range[1])]\n",
    "outliers.shape[0]"
   ]
  },
  {
   "cell_type": "code",
   "execution_count": 100,
   "metadata": {},
   "outputs": [
    {
     "name": "stdout",
     "output_type": "stream",
     "text": [
      "Доля выбросов: 0.05\n"
     ]
    }
   ],
   "source": [
    "print(f'Доля выбросов: {outliers.shape[0] / df.shape[0]}')"
   ]
  },
  {
   "cell_type": "markdown",
   "metadata": {},
   "source": [
    "### Задача 3\n",
    "\n",
    "#### В университет на факультеты A и B поступило равное количество студентов, а на факультет C студентов поступило столько же, сколько на A и B вместе. Вероятность того, что студент факультета A сдаст первую сессию, равна 0.8. Для студента факультета B эта вероятность равна 0.7, а для студента факультета C - 0.9. Студент сдал первую сессию. Какова вероятность, что он учится: a) на факультете A? б) на факультете B? в) на факультете C?"
   ]
  },
  {
   "cell_type": "code",
   "execution_count": 104,
   "metadata": {},
   "outputs": [
    {
     "name": "stdout",
     "output_type": "stream",
     "text": [
      "Факультет А: 0.24242424242424246\n",
      "Факультет B: 0.21212121212121213\n",
      "Факультет C: 0.5454545454545455\n"
     ]
    }
   ],
   "source": [
    "#по классическому определению вероятности:\n",
    "# факультет A = 1/4\n",
    "# факультет B = 1/4\n",
    "# факультет C = 1/2\n",
    "# 1/4+1/4+1/2 = 1 \n",
    "\n",
    "# по формуле полной вероятности:\n",
    "P = 1/4 * 0.8 + 1/4 * 0.7 + 1/2 * 0.9\n",
    "\n",
    "# по Байесу получаем:\n",
    "print (f'Факультет А: {(1/4 * 0.8) / P}')\n",
    "print (f'Факультет B: {(1/4 * 0.7) / P}')\n",
    "print (f'Факультет C: {(1/2 * 0.9) / P}')"
   ]
  }
 ],
 "metadata": {
  "kernelspec": {
   "display_name": "Python 3",
   "language": "python",
   "name": "python3"
  },
  "language_info": {
   "codemirror_mode": {
    "name": "ipython",
    "version": 3
   },
   "file_extension": ".py",
   "mimetype": "text/x-python",
   "name": "python",
   "nbconvert_exporter": "python",
   "pygments_lexer": "ipython3",
   "version": "3.7.6"
  }
 },
 "nbformat": 4,
 "nbformat_minor": 4
}
